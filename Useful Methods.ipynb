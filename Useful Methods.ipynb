{
 "cells": [
  {
   "cell_type": "code",
   "execution_count": 1,
   "id": "280ddc59",
   "metadata": {},
   "outputs": [],
   "source": [
    "import pandas as pd\n",
    "import numpy as np"
   ]
  },
  {
   "cell_type": "code",
   "execution_count": 12,
   "id": "96e777db",
   "metadata": {},
   "outputs": [],
   "source": [
    "df = pd.read_csv('annual.csv')"
   ]
  },
  {
   "cell_type": "code",
   "execution_count": 13,
   "id": "4c7e9ccc",
   "metadata": {},
   "outputs": [
    {
     "data": {
      "text/html": [
       "<div>\n",
       "<style scoped>\n",
       "    .dataframe tbody tr th:only-of-type {\n",
       "        vertical-align: middle;\n",
       "    }\n",
       "\n",
       "    .dataframe tbody tr th {\n",
       "        vertical-align: top;\n",
       "    }\n",
       "\n",
       "    .dataframe thead th {\n",
       "        text-align: right;\n",
       "    }\n",
       "</style>\n",
       "<table border=\"1\" class=\"dataframe\">\n",
       "  <thead>\n",
       "    <tr style=\"text-align: right;\">\n",
       "      <th></th>\n",
       "      <th>Year</th>\n",
       "      <th>Industry_aggregation_NZSIOC</th>\n",
       "      <th>Industry_code_NZSIOC</th>\n",
       "      <th>Industry_name_NZSIOC</th>\n",
       "      <th>Units</th>\n",
       "      <th>Variable_code</th>\n",
       "      <th>Variable_name</th>\n",
       "      <th>Variable_category</th>\n",
       "      <th>Value</th>\n",
       "      <th>Industry_code_ANZSIC06</th>\n",
       "    </tr>\n",
       "  </thead>\n",
       "  <tbody>\n",
       "    <tr>\n",
       "      <th>0</th>\n",
       "      <td>2021</td>\n",
       "      <td>Level 1</td>\n",
       "      <td>99999</td>\n",
       "      <td>All industries</td>\n",
       "      <td>Dollars (millions)</td>\n",
       "      <td>H01</td>\n",
       "      <td>Total income</td>\n",
       "      <td>Financial performance</td>\n",
       "      <td>757,504</td>\n",
       "      <td>ANZSIC06 divisions A-S (excluding classes K633...</td>\n",
       "    </tr>\n",
       "    <tr>\n",
       "      <th>1</th>\n",
       "      <td>2021</td>\n",
       "      <td>Level 1</td>\n",
       "      <td>99999</td>\n",
       "      <td>All industries</td>\n",
       "      <td>Dollars (millions)</td>\n",
       "      <td>H04</td>\n",
       "      <td>Sales, government funding, grants and subsidies</td>\n",
       "      <td>Financial performance</td>\n",
       "      <td>674,890</td>\n",
       "      <td>ANZSIC06 divisions A-S (excluding classes K633...</td>\n",
       "    </tr>\n",
       "    <tr>\n",
       "      <th>2</th>\n",
       "      <td>2021</td>\n",
       "      <td>Level 1</td>\n",
       "      <td>99999</td>\n",
       "      <td>All industries</td>\n",
       "      <td>Dollars (millions)</td>\n",
       "      <td>H05</td>\n",
       "      <td>Interest, dividends and donations</td>\n",
       "      <td>Financial performance</td>\n",
       "      <td>49,593</td>\n",
       "      <td>ANZSIC06 divisions A-S (excluding classes K633...</td>\n",
       "    </tr>\n",
       "    <tr>\n",
       "      <th>3</th>\n",
       "      <td>2021</td>\n",
       "      <td>Level 1</td>\n",
       "      <td>99999</td>\n",
       "      <td>All industries</td>\n",
       "      <td>Dollars (millions)</td>\n",
       "      <td>H07</td>\n",
       "      <td>Non-operating income</td>\n",
       "      <td>Financial performance</td>\n",
       "      <td>33,020</td>\n",
       "      <td>ANZSIC06 divisions A-S (excluding classes K633...</td>\n",
       "    </tr>\n",
       "    <tr>\n",
       "      <th>4</th>\n",
       "      <td>2021</td>\n",
       "      <td>Level 1</td>\n",
       "      <td>99999</td>\n",
       "      <td>All industries</td>\n",
       "      <td>Dollars (millions)</td>\n",
       "      <td>H08</td>\n",
       "      <td>Total expenditure</td>\n",
       "      <td>Financial performance</td>\n",
       "      <td>654,404</td>\n",
       "      <td>ANZSIC06 divisions A-S (excluding classes K633...</td>\n",
       "    </tr>\n",
       "    <tr>\n",
       "      <th>...</th>\n",
       "      <td>...</td>\n",
       "      <td>...</td>\n",
       "      <td>...</td>\n",
       "      <td>...</td>\n",
       "      <td>...</td>\n",
       "      <td>...</td>\n",
       "      <td>...</td>\n",
       "      <td>...</td>\n",
       "      <td>...</td>\n",
       "      <td>...</td>\n",
       "    </tr>\n",
       "    <tr>\n",
       "      <th>2097</th>\n",
       "      <td>2021</td>\n",
       "      <td>Level 4</td>\n",
       "      <td>FF111</td>\n",
       "      <td>Basic Material Wholesaling</td>\n",
       "      <td>Dollars (millions)</td>\n",
       "      <td>H28</td>\n",
       "      <td>Disposals of fixed assets</td>\n",
       "      <td>Financial position</td>\n",
       "      <td>154</td>\n",
       "      <td>ANZSIC06 groups F331, F332, and F333</td>\n",
       "    </tr>\n",
       "    <tr>\n",
       "      <th>2098</th>\n",
       "      <td>2021</td>\n",
       "      <td>Level 4</td>\n",
       "      <td>FF111</td>\n",
       "      <td>Basic Material Wholesaling</td>\n",
       "      <td>Dollars (millions)</td>\n",
       "      <td>H29</td>\n",
       "      <td>Other assets</td>\n",
       "      <td>Financial position</td>\n",
       "      <td>3,324</td>\n",
       "      <td>ANZSIC06 groups F331, F332, and F333</td>\n",
       "    </tr>\n",
       "    <tr>\n",
       "      <th>2099</th>\n",
       "      <td>2021</td>\n",
       "      <td>Level 4</td>\n",
       "      <td>FF111</td>\n",
       "      <td>Basic Material Wholesaling</td>\n",
       "      <td>Dollars (millions)</td>\n",
       "      <td>H30</td>\n",
       "      <td>Total equity and liabilities</td>\n",
       "      <td>Financial position</td>\n",
       "      <td>14,061</td>\n",
       "      <td>ANZSIC06 groups F331, F332, and F333</td>\n",
       "    </tr>\n",
       "    <tr>\n",
       "      <th>2100</th>\n",
       "      <td>2021</td>\n",
       "      <td>Level 4</td>\n",
       "      <td>FF111</td>\n",
       "      <td>Basic Material Wholesaling</td>\n",
       "      <td>Dollars (millions)</td>\n",
       "      <td>H31</td>\n",
       "      <td>Shareholders funds or owners equity</td>\n",
       "      <td>Financial position</td>\n",
       "      <td>5,141</td>\n",
       "      <td>ANZSIC06 groups F331, F332, and F333</td>\n",
       "    </tr>\n",
       "    <tr>\n",
       "      <th>2101</th>\n",
       "      <td>2021</td>\n",
       "      <td>Level 4</td>\n",
       "      <td>FF111</td>\n",
       "      <td>Basic Material Wholesaling</td>\n",
       "      <td>Dollars (millions)</td>\n",
       "      <td>H32</td>\n",
       "      <td>Cu</td>\n",
       "      <td>NaN</td>\n",
       "      <td>NaN</td>\n",
       "      <td>NaN</td>\n",
       "    </tr>\n",
       "  </tbody>\n",
       "</table>\n",
       "<p>2102 rows × 10 columns</p>\n",
       "</div>"
      ],
      "text/plain": [
       "      Year Industry_aggregation_NZSIOC Industry_code_NZSIOC  \\\n",
       "0     2021                     Level 1                99999   \n",
       "1     2021                     Level 1                99999   \n",
       "2     2021                     Level 1                99999   \n",
       "3     2021                     Level 1                99999   \n",
       "4     2021                     Level 1                99999   \n",
       "...    ...                         ...                  ...   \n",
       "2097  2021                     Level 4                FF111   \n",
       "2098  2021                     Level 4                FF111   \n",
       "2099  2021                     Level 4                FF111   \n",
       "2100  2021                     Level 4                FF111   \n",
       "2101  2021                     Level 4                FF111   \n",
       "\n",
       "            Industry_name_NZSIOC               Units Variable_code  \\\n",
       "0                 All industries  Dollars (millions)           H01   \n",
       "1                 All industries  Dollars (millions)           H04   \n",
       "2                 All industries  Dollars (millions)           H05   \n",
       "3                 All industries  Dollars (millions)           H07   \n",
       "4                 All industries  Dollars (millions)           H08   \n",
       "...                          ...                 ...           ...   \n",
       "2097  Basic Material Wholesaling  Dollars (millions)           H28   \n",
       "2098  Basic Material Wholesaling  Dollars (millions)           H29   \n",
       "2099  Basic Material Wholesaling  Dollars (millions)           H30   \n",
       "2100  Basic Material Wholesaling  Dollars (millions)           H31   \n",
       "2101  Basic Material Wholesaling  Dollars (millions)           H32   \n",
       "\n",
       "                                        Variable_name      Variable_category  \\\n",
       "0                                        Total income  Financial performance   \n",
       "1     Sales, government funding, grants and subsidies  Financial performance   \n",
       "2                   Interest, dividends and donations  Financial performance   \n",
       "3                                Non-operating income  Financial performance   \n",
       "4                                   Total expenditure  Financial performance   \n",
       "...                                               ...                    ...   \n",
       "2097                        Disposals of fixed assets     Financial position   \n",
       "2098                                     Other assets     Financial position   \n",
       "2099                     Total equity and liabilities     Financial position   \n",
       "2100              Shareholders funds or owners equity     Financial position   \n",
       "2101                                               Cu                    NaN   \n",
       "\n",
       "        Value                             Industry_code_ANZSIC06  \n",
       "0     757,504  ANZSIC06 divisions A-S (excluding classes K633...  \n",
       "1     674,890  ANZSIC06 divisions A-S (excluding classes K633...  \n",
       "2      49,593  ANZSIC06 divisions A-S (excluding classes K633...  \n",
       "3      33,020  ANZSIC06 divisions A-S (excluding classes K633...  \n",
       "4     654,404  ANZSIC06 divisions A-S (excluding classes K633...  \n",
       "...       ...                                                ...  \n",
       "2097      154               ANZSIC06 groups F331, F332, and F333  \n",
       "2098    3,324               ANZSIC06 groups F331, F332, and F333  \n",
       "2099   14,061               ANZSIC06 groups F331, F332, and F333  \n",
       "2100    5,141               ANZSIC06 groups F331, F332, and F333  \n",
       "2101      NaN                                                NaN  \n",
       "\n",
       "[2102 rows x 10 columns]"
      ]
     },
     "execution_count": 13,
     "metadata": {},
     "output_type": "execute_result"
    }
   ],
   "source": [
    "df"
   ]
  },
  {
   "cell_type": "code",
   "execution_count": 14,
   "id": "18d3159c",
   "metadata": {
    "scrolled": true
   },
   "outputs": [
    {
     "name": "stdout",
     "output_type": "stream",
     "text": [
      "<class 'pandas.core.frame.DataFrame'>\n",
      "RangeIndex: 2102 entries, 0 to 2101\n",
      "Data columns (total 10 columns):\n",
      " #   Column                       Non-Null Count  Dtype \n",
      "---  ------                       --------------  ----- \n",
      " 0   Year                         2102 non-null   int64 \n",
      " 1   Industry_aggregation_NZSIOC  2102 non-null   object\n",
      " 2   Industry_code_NZSIOC         2102 non-null   object\n",
      " 3   Industry_name_NZSIOC         2102 non-null   object\n",
      " 4   Units                        2102 non-null   object\n",
      " 5   Variable_code                2102 non-null   object\n",
      " 6   Variable_name                2102 non-null   object\n",
      " 7   Variable_category            2101 non-null   object\n",
      " 8   Value                        2101 non-null   object\n",
      " 9   Industry_code_ANZSIC06       2101 non-null   object\n",
      "dtypes: int64(1), object(9)\n",
      "memory usage: 164.3+ KB\n"
     ]
    }
   ],
   "source": [
    "df.info()"
   ]
  },
  {
   "cell_type": "code",
   "execution_count": 15,
   "id": "63015467",
   "metadata": {},
   "outputs": [
    {
     "data": {
      "text/plain": [
       "'7645'"
      ]
     },
     "execution_count": 15,
     "metadata": {},
     "output_type": "execute_result"
    }
   ],
   "source": [
    "str(1234567645)[-4:]"
   ]
  },
  {
   "cell_type": "code",
   "execution_count": 22,
   "id": "6d003e76",
   "metadata": {},
   "outputs": [],
   "source": [
    "def last_four(Value):\n",
    "    return str(Value)[-4:]"
   ]
  },
  {
   "cell_type": "code",
   "execution_count": 23,
   "id": "c369bf29",
   "metadata": {},
   "outputs": [
    {
     "data": {
      "text/plain": [
       "'7777'"
      ]
     },
     "execution_count": 23,
     "metadata": {},
     "output_type": "execute_result"
    }
   ],
   "source": [
    "last_four(123455667777)"
   ]
  },
  {
   "cell_type": "code",
   "execution_count": 24,
   "id": "f56156a9",
   "metadata": {},
   "outputs": [
    {
     "data": {
      "text/plain": [
       "0       ,504\n",
       "1       ,890\n",
       "2       ,593\n",
       "3       ,020\n",
       "4       ,404\n",
       "        ... \n",
       "2097     154\n",
       "2098    ,324\n",
       "2099    ,061\n",
       "2100    ,141\n",
       "2101     nan\n",
       "Name: Value, Length: 2102, dtype: object"
      ]
     },
     "execution_count": 24,
     "metadata": {},
     "output_type": "execute_result"
    }
   ],
   "source": [
    "df['Value'].apply(last_four)"
   ]
  },
  {
   "cell_type": "code",
   "execution_count": 63,
   "id": "6c93e21d",
   "metadata": {},
   "outputs": [],
   "source": [
    "def yelp(Price):\n",
    "    if Price < 500:\n",
    "        return '$'\n",
    "    elif Price >= 500 and Price <= 5000:\n",
    "        return '$$'\n",
    "    else:\n",
    "        return '$$$'"
   ]
  },
  {
   "cell_type": "code",
   "execution_count": 67,
   "id": "7096b585",
   "metadata": {},
   "outputs": [],
   "source": [
    "df['yelp'] = df['Year'].apply(yelp)"
   ]
  },
  {
   "cell_type": "code",
   "execution_count": 65,
   "id": "3204cad3",
   "metadata": {},
   "outputs": [
    {
     "data": {
      "text/plain": [
       "0       $$\n",
       "1       $$\n",
       "2       $$\n",
       "3       $$\n",
       "4       $$\n",
       "        ..\n",
       "2097    $$\n",
       "2098    $$\n",
       "2099    $$\n",
       "2100    $$\n",
       "2101    $$\n",
       "Name: yelp, Length: 2102, dtype: object"
      ]
     },
     "execution_count": 65,
     "metadata": {},
     "output_type": "execute_result"
    }
   ],
   "source": [
    "df['yelp']"
   ]
  },
  {
   "cell_type": "code",
   "execution_count": 68,
   "id": "919eaf12",
   "metadata": {},
   "outputs": [],
   "source": [
    "lambda num: num*2"
   ]
  },
  {
   "cell_type": "code",
   "execution_count": 69,
   "id": "878efe47",
   "metadata": {},
   "outputs": [
    {
     "data": {
      "text/plain": [
       "4"
      ]
     },
     "execution_count": 69,
     "metadata": {},
     "output_type": "execute_result"
    }
   ],
   "source": [
    "simple(2)"
   ]
  },
  {
   "cell_type": "code",
   "execution_count": 71,
   "id": "e34dacf0",
   "metadata": {},
   "outputs": [
    {
     "data": {
      "text/plain": [
       "0       4042\n",
       "1       4042\n",
       "2       4042\n",
       "3       4042\n",
       "4       4042\n",
       "        ... \n",
       "2097    4042\n",
       "2098    4042\n",
       "2099    4042\n",
       "2100    4042\n",
       "2101    4042\n",
       "Name: Year, Length: 2102, dtype: int64"
      ]
     },
     "execution_count": 71,
     "metadata": {},
     "output_type": "execute_result"
    }
   ],
   "source": [
    "df['Year'].apply(lambda num: num*2)"
   ]
  },
  {
   "cell_type": "code",
   "execution_count": 72,
   "id": "141c1e2f",
   "metadata": {},
   "outputs": [
    {
     "data": {
      "text/html": [
       "<div>\n",
       "<style scoped>\n",
       "    .dataframe tbody tr th:only-of-type {\n",
       "        vertical-align: middle;\n",
       "    }\n",
       "\n",
       "    .dataframe tbody tr th {\n",
       "        vertical-align: top;\n",
       "    }\n",
       "\n",
       "    .dataframe thead th {\n",
       "        text-align: right;\n",
       "    }\n",
       "</style>\n",
       "<table border=\"1\" class=\"dataframe\">\n",
       "  <thead>\n",
       "    <tr style=\"text-align: right;\">\n",
       "      <th></th>\n",
       "      <th>Year</th>\n",
       "      <th>Industry_aggregation_NZSIOC</th>\n",
       "      <th>Industry_code_NZSIOC</th>\n",
       "      <th>Industry_name_NZSIOC</th>\n",
       "      <th>Units</th>\n",
       "      <th>Variable_code</th>\n",
       "      <th>Variable_name</th>\n",
       "      <th>Variable_category</th>\n",
       "      <th>Value</th>\n",
       "      <th>Industry_code_ANZSIC06</th>\n",
       "      <th>yelp</th>\n",
       "    </tr>\n",
       "  </thead>\n",
       "  <tbody>\n",
       "    <tr>\n",
       "      <th>0</th>\n",
       "      <td>2021</td>\n",
       "      <td>Level 1</td>\n",
       "      <td>99999</td>\n",
       "      <td>All industries</td>\n",
       "      <td>Dollars (millions)</td>\n",
       "      <td>H01</td>\n",
       "      <td>Total income</td>\n",
       "      <td>Financial performance</td>\n",
       "      <td>757,504</td>\n",
       "      <td>ANZSIC06 divisions A-S (excluding classes K633...</td>\n",
       "      <td>$$</td>\n",
       "    </tr>\n",
       "    <tr>\n",
       "      <th>1</th>\n",
       "      <td>2021</td>\n",
       "      <td>Level 1</td>\n",
       "      <td>99999</td>\n",
       "      <td>All industries</td>\n",
       "      <td>Dollars (millions)</td>\n",
       "      <td>H04</td>\n",
       "      <td>Sales, government funding, grants and subsidies</td>\n",
       "      <td>Financial performance</td>\n",
       "      <td>674,890</td>\n",
       "      <td>ANZSIC06 divisions A-S (excluding classes K633...</td>\n",
       "      <td>$$</td>\n",
       "    </tr>\n",
       "    <tr>\n",
       "      <th>2</th>\n",
       "      <td>2021</td>\n",
       "      <td>Level 1</td>\n",
       "      <td>99999</td>\n",
       "      <td>All industries</td>\n",
       "      <td>Dollars (millions)</td>\n",
       "      <td>H05</td>\n",
       "      <td>Interest, dividends and donations</td>\n",
       "      <td>Financial performance</td>\n",
       "      <td>49,593</td>\n",
       "      <td>ANZSIC06 divisions A-S (excluding classes K633...</td>\n",
       "      <td>$$</td>\n",
       "    </tr>\n",
       "    <tr>\n",
       "      <th>3</th>\n",
       "      <td>2021</td>\n",
       "      <td>Level 1</td>\n",
       "      <td>99999</td>\n",
       "      <td>All industries</td>\n",
       "      <td>Dollars (millions)</td>\n",
       "      <td>H07</td>\n",
       "      <td>Non-operating income</td>\n",
       "      <td>Financial performance</td>\n",
       "      <td>33,020</td>\n",
       "      <td>ANZSIC06 divisions A-S (excluding classes K633...</td>\n",
       "      <td>$$</td>\n",
       "    </tr>\n",
       "    <tr>\n",
       "      <th>4</th>\n",
       "      <td>2021</td>\n",
       "      <td>Level 1</td>\n",
       "      <td>99999</td>\n",
       "      <td>All industries</td>\n",
       "      <td>Dollars (millions)</td>\n",
       "      <td>H08</td>\n",
       "      <td>Total expenditure</td>\n",
       "      <td>Financial performance</td>\n",
       "      <td>654,404</td>\n",
       "      <td>ANZSIC06 divisions A-S (excluding classes K633...</td>\n",
       "      <td>$$</td>\n",
       "    </tr>\n",
       "  </tbody>\n",
       "</table>\n",
       "</div>"
      ],
      "text/plain": [
       "   Year Industry_aggregation_NZSIOC Industry_code_NZSIOC Industry_name_NZSIOC  \\\n",
       "0  2021                     Level 1                99999       All industries   \n",
       "1  2021                     Level 1                99999       All industries   \n",
       "2  2021                     Level 1                99999       All industries   \n",
       "3  2021                     Level 1                99999       All industries   \n",
       "4  2021                     Level 1                99999       All industries   \n",
       "\n",
       "                Units Variable_code  \\\n",
       "0  Dollars (millions)           H01   \n",
       "1  Dollars (millions)           H04   \n",
       "2  Dollars (millions)           H05   \n",
       "3  Dollars (millions)           H07   \n",
       "4  Dollars (millions)           H08   \n",
       "\n",
       "                                     Variable_name      Variable_category  \\\n",
       "0                                     Total income  Financial performance   \n",
       "1  Sales, government funding, grants and subsidies  Financial performance   \n",
       "2                Interest, dividends and donations  Financial performance   \n",
       "3                             Non-operating income  Financial performance   \n",
       "4                                Total expenditure  Financial performance   \n",
       "\n",
       "     Value                             Industry_code_ANZSIC06 yelp  \n",
       "0  757,504  ANZSIC06 divisions A-S (excluding classes K633...   $$  \n",
       "1  674,890  ANZSIC06 divisions A-S (excluding classes K633...   $$  \n",
       "2   49,593  ANZSIC06 divisions A-S (excluding classes K633...   $$  \n",
       "3   33,020  ANZSIC06 divisions A-S (excluding classes K633...   $$  \n",
       "4  654,404  ANZSIC06 divisions A-S (excluding classes K633...   $$  "
      ]
     },
     "execution_count": 72,
     "metadata": {},
     "output_type": "execute_result"
    }
   ],
   "source": [
    "df.head()"
   ]
  },
  {
   "cell_type": "code",
   "execution_count": 73,
   "id": "fd689abd",
   "metadata": {},
   "outputs": [],
   "source": [
    "df = pd.read_csv('Book.csv')"
   ]
  },
  {
   "cell_type": "code",
   "execution_count": 74,
   "id": "2454b0a0",
   "metadata": {},
   "outputs": [
    {
     "data": {
      "text/html": [
       "<div>\n",
       "<style scoped>\n",
       "    .dataframe tbody tr th:only-of-type {\n",
       "        vertical-align: middle;\n",
       "    }\n",
       "\n",
       "    .dataframe tbody tr th {\n",
       "        vertical-align: top;\n",
       "    }\n",
       "\n",
       "    .dataframe thead th {\n",
       "        text-align: right;\n",
       "    }\n",
       "</style>\n",
       "<table border=\"1\" class=\"dataframe\">\n",
       "  <thead>\n",
       "    <tr style=\"text-align: right;\">\n",
       "      <th></th>\n",
       "      <th>Pro</th>\n",
       "      <th>Line</th>\n",
       "      <th>beg</th>\n",
       "      <th>final</th>\n",
       "      <th>Liabilities</th>\n",
       "      <th>Line No</th>\n",
       "      <th>begining</th>\n",
       "    </tr>\n",
       "  </thead>\n",
       "  <tbody>\n",
       "    <tr>\n",
       "      <th>0</th>\n",
       "      <td>Monetary resources</td>\n",
       "      <td>1</td>\n",
       "      <td>800</td>\n",
       "      <td>900</td>\n",
       "      <td>Money borrowed for           short time</td>\n",
       "      <td>68</td>\n",
       "      <td>2000</td>\n",
       "    </tr>\n",
       "    <tr>\n",
       "      <th>1</th>\n",
       "      <td>Current investment</td>\n",
       "      <td>2</td>\n",
       "      <td>1000</td>\n",
       "      <td>500</td>\n",
       "      <td>Notes payable</td>\n",
       "      <td>69</td>\n",
       "      <td>0</td>\n",
       "    </tr>\n",
       "    <tr>\n",
       "      <th>2</th>\n",
       "      <td>Bill receivable</td>\n",
       "      <td>3</td>\n",
       "      <td>0</td>\n",
       "      <td>0</td>\n",
       "      <td>Account payable</td>\n",
       "      <td>70</td>\n",
       "      <td>1000</td>\n",
       "    </tr>\n",
       "    <tr>\n",
       "      <th>3</th>\n",
       "      <td>Dividends receivable</td>\n",
       "      <td>4</td>\n",
       "      <td>0</td>\n",
       "      <td>0</td>\n",
       "      <td>Advance payment</td>\n",
       "      <td>71</td>\n",
       "      <td>300</td>\n",
       "    </tr>\n",
       "    <tr>\n",
       "      <th>4</th>\n",
       "      <td>Interest in black</td>\n",
       "      <td>5</td>\n",
       "      <td>0</td>\n",
       "      <td>0</td>\n",
       "      <td>Wage payable</td>\n",
       "      <td>72</td>\n",
       "      <td>0</td>\n",
       "    </tr>\n",
       "    <tr>\n",
       "      <th>5</th>\n",
       "      <td>Receivables</td>\n",
       "      <td>6</td>\n",
       "      <td>1200</td>\n",
       "      <td>1300</td>\n",
       "      <td>Payable benefits</td>\n",
       "      <td>73</td>\n",
       "      <td>0</td>\n",
       "    </tr>\n",
       "    <tr>\n",
       "      <th>6</th>\n",
       "      <td>Accounts receivable-other</td>\n",
       "      <td>7</td>\n",
       "      <td>0</td>\n",
       "      <td>0</td>\n",
       "      <td>Dividends payable</td>\n",
       "      <td>74</td>\n",
       "      <td>0</td>\n",
       "    </tr>\n",
       "  </tbody>\n",
       "</table>\n",
       "</div>"
      ],
      "text/plain": [
       "                         Pro  Line   beg  final  \\\n",
       "0         Monetary resources     1   800    900   \n",
       "1         Current investment     2  1000    500   \n",
       "2            Bill receivable     3     0      0   \n",
       "3       Dividends receivable     4     0      0   \n",
       "4          Interest in black     5     0      0   \n",
       "5                Receivables     6  1200   1300   \n",
       "6  Accounts receivable-other     7     0      0   \n",
       "\n",
       "                               Liabilities  Line No  begining  \n",
       "0  Money borrowed for           short time       68      2000  \n",
       "1                            Notes payable       69         0  \n",
       "2                          Account payable       70      1000  \n",
       "3                          Advance payment       71       300  \n",
       "4                             Wage payable       72         0  \n",
       "5                         Payable benefits       73         0  \n",
       "6                        Dividends payable       74         0  "
      ]
     },
     "execution_count": 74,
     "metadata": {},
     "output_type": "execute_result"
    }
   ],
   "source": [
    "df"
   ]
  },
  {
   "cell_type": "code",
   "execution_count": 75,
   "id": "b3d3c623",
   "metadata": {},
   "outputs": [],
   "source": [
    "def quality(Line,beg):\n",
    "    if beg/Line > 0.25:\n",
    "        return \"Generous\"\n",
    "    else:\n",
    "        return \"other\""
   ]
  },
  {
   "cell_type": "code",
   "execution_count": 76,
   "id": "39da9a31",
   "metadata": {},
   "outputs": [
    {
     "data": {
      "text/plain": [
       "'Generous'"
      ]
     },
     "execution_count": 76,
     "metadata": {},
     "output_type": "execute_result"
    }
   ],
   "source": [
    "quality(500,1000)"
   ]
  },
  {
   "cell_type": "code",
   "execution_count": 77,
   "id": "5bf42063",
   "metadata": {},
   "outputs": [
    {
     "data": {
      "text/plain": [
       "0    Generous\n",
       "1    Generous\n",
       "2       other\n",
       "3       other\n",
       "4       other\n",
       "5    Generous\n",
       "6       other\n",
       "dtype: object"
      ]
     },
     "execution_count": 77,
     "metadata": {},
     "output_type": "execute_result"
    }
   ],
   "source": [
    "df[['beg','Line']].apply(lambda df: quality(df['Line'],df['beg']),axis=1)"
   ]
  },
  {
   "cell_type": "code",
   "execution_count": 78,
   "id": "99f10447",
   "metadata": {},
   "outputs": [],
   "source": [
    "df['quality'] = np.vectorize(quality)(df['Line'],df['beg'])"
   ]
  },
  {
   "cell_type": "code",
   "execution_count": 79,
   "id": "a897f279",
   "metadata": {},
   "outputs": [
    {
     "data": {
      "text/html": [
       "<div>\n",
       "<style scoped>\n",
       "    .dataframe tbody tr th:only-of-type {\n",
       "        vertical-align: middle;\n",
       "    }\n",
       "\n",
       "    .dataframe tbody tr th {\n",
       "        vertical-align: top;\n",
       "    }\n",
       "\n",
       "    .dataframe thead th {\n",
       "        text-align: right;\n",
       "    }\n",
       "</style>\n",
       "<table border=\"1\" class=\"dataframe\">\n",
       "  <thead>\n",
       "    <tr style=\"text-align: right;\">\n",
       "      <th></th>\n",
       "      <th>Pro</th>\n",
       "      <th>Line</th>\n",
       "      <th>beg</th>\n",
       "      <th>final</th>\n",
       "      <th>Liabilities</th>\n",
       "      <th>Line No</th>\n",
       "      <th>begining</th>\n",
       "      <th>quality</th>\n",
       "    </tr>\n",
       "  </thead>\n",
       "  <tbody>\n",
       "    <tr>\n",
       "      <th>0</th>\n",
       "      <td>Monetary resources</td>\n",
       "      <td>1</td>\n",
       "      <td>800</td>\n",
       "      <td>900</td>\n",
       "      <td>Money borrowed for           short time</td>\n",
       "      <td>68</td>\n",
       "      <td>2000</td>\n",
       "      <td>Generous</td>\n",
       "    </tr>\n",
       "    <tr>\n",
       "      <th>1</th>\n",
       "      <td>Current investment</td>\n",
       "      <td>2</td>\n",
       "      <td>1000</td>\n",
       "      <td>500</td>\n",
       "      <td>Notes payable</td>\n",
       "      <td>69</td>\n",
       "      <td>0</td>\n",
       "      <td>Generous</td>\n",
       "    </tr>\n",
       "    <tr>\n",
       "      <th>2</th>\n",
       "      <td>Bill receivable</td>\n",
       "      <td>3</td>\n",
       "      <td>0</td>\n",
       "      <td>0</td>\n",
       "      <td>Account payable</td>\n",
       "      <td>70</td>\n",
       "      <td>1000</td>\n",
       "      <td>other</td>\n",
       "    </tr>\n",
       "    <tr>\n",
       "      <th>3</th>\n",
       "      <td>Dividends receivable</td>\n",
       "      <td>4</td>\n",
       "      <td>0</td>\n",
       "      <td>0</td>\n",
       "      <td>Advance payment</td>\n",
       "      <td>71</td>\n",
       "      <td>300</td>\n",
       "      <td>other</td>\n",
       "    </tr>\n",
       "    <tr>\n",
       "      <th>4</th>\n",
       "      <td>Interest in black</td>\n",
       "      <td>5</td>\n",
       "      <td>0</td>\n",
       "      <td>0</td>\n",
       "      <td>Wage payable</td>\n",
       "      <td>72</td>\n",
       "      <td>0</td>\n",
       "      <td>other</td>\n",
       "    </tr>\n",
       "  </tbody>\n",
       "</table>\n",
       "</div>"
      ],
      "text/plain": [
       "                    Pro  Line   beg  final  \\\n",
       "0    Monetary resources     1   800    900   \n",
       "1    Current investment     2  1000    500   \n",
       "2       Bill receivable     3     0      0   \n",
       "3  Dividends receivable     4     0      0   \n",
       "4     Interest in black     5     0      0   \n",
       "\n",
       "                               Liabilities  Line No  begining   quality  \n",
       "0  Money borrowed for           short time       68      2000  Generous  \n",
       "1                            Notes payable       69         0  Generous  \n",
       "2                          Account payable       70      1000     other  \n",
       "3                          Advance payment       71       300     other  \n",
       "4                             Wage payable       72         0     other  "
      ]
     },
     "execution_count": 79,
     "metadata": {},
     "output_type": "execute_result"
    }
   ],
   "source": [
    "df.head()"
   ]
  },
  {
   "cell_type": "code",
   "execution_count": null,
   "id": "2e9095a2",
   "metadata": {},
   "outputs": [],
   "source": []
  }
 ],
 "metadata": {
  "kernelspec": {
   "display_name": "Python 3 (ipykernel)",
   "language": "python",
   "name": "python3"
  },
  "language_info": {
   "codemirror_mode": {
    "name": "ipython",
    "version": 3
   },
   "file_extension": ".py",
   "mimetype": "text/x-python",
   "name": "python",
   "nbconvert_exporter": "python",
   "pygments_lexer": "ipython3",
   "version": "3.11.5"
  }
 },
 "nbformat": 4,
 "nbformat_minor": 5
}
