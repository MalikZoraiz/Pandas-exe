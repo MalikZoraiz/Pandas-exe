{
 "cells": [
  {
   "cell_type": "code",
   "execution_count": 1,
   "id": "d7b3e723",
   "metadata": {},
   "outputs": [],
   "source": [
    "import numpy as np"
   ]
  },
  {
   "cell_type": "code",
   "execution_count": 2,
   "id": "282df453",
   "metadata": {},
   "outputs": [],
   "source": [
    "import pandas as pd"
   ]
  },
  {
   "cell_type": "code",
   "execution_count": 5,
   "id": "eb43519a",
   "metadata": {},
   "outputs": [],
   "source": [
    "#help(pd.Series)"
   ]
  },
  {
   "cell_type": "code",
   "execution_count": 9,
   "id": "cf9088b2",
   "metadata": {},
   "outputs": [],
   "source": [
    "myindex = ['USA','Canada', 'Mexico']"
   ]
  },
  {
   "cell_type": "code",
   "execution_count": 10,
   "id": "245bef45",
   "metadata": {},
   "outputs": [],
   "source": [
    "mydata = [1556,2445,5555]"
   ]
  },
  {
   "cell_type": "code",
   "execution_count": 16,
   "id": "a550e362",
   "metadata": {},
   "outputs": [],
   "source": [
    "myser = pd.Series(mydata,myindex)"
   ]
  },
  {
   "cell_type": "markdown",
   "id": "e92bf0ee",
   "metadata": {},
   "source": [
    "myser"
   ]
  },
  {
   "cell_type": "code",
   "execution_count": 12,
   "id": "0c8ea157",
   "metadata": {},
   "outputs": [
    {
     "data": {
      "text/plain": [
       "USA       1556\n",
       "Canada    2445\n",
       "Mexico    5555\n",
       "dtype: int64"
      ]
     },
     "execution_count": 12,
     "metadata": {},
     "output_type": "execute_result"
    }
   ],
   "source": [
    "myser"
   ]
  },
  {
   "cell_type": "code",
   "execution_count": 14,
   "id": "a3a9eda3",
   "metadata": {},
   "outputs": [
    {
     "data": {
      "text/plain": [
       "1556"
      ]
     },
     "execution_count": 14,
     "metadata": {},
     "output_type": "execute_result"
    }
   ],
   "source": [
    "myser[0]"
   ]
  },
  {
   "cell_type": "code",
   "execution_count": 15,
   "id": "cc7739ab",
   "metadata": {},
   "outputs": [
    {
     "data": {
      "text/plain": [
       "1556"
      ]
     },
     "execution_count": 15,
     "metadata": {},
     "output_type": "execute_result"
    }
   ],
   "source": [
    "myser['USA']"
   ]
  },
  {
   "cell_type": "code",
   "execution_count": 17,
   "id": "3ca2d889",
   "metadata": {},
   "outputs": [],
   "source": [
    "ages={'Sam':5,'ASad':7,'Ali':9}"
   ]
  },
  {
   "cell_type": "code",
   "execution_count": 18,
   "id": "b6b43e50",
   "metadata": {},
   "outputs": [
    {
     "data": {
      "text/plain": [
       "Sam     5\n",
       "ASad    7\n",
       "Ali     9\n",
       "dtype: int64"
      ]
     },
     "execution_count": 18,
     "metadata": {},
     "output_type": "execute_result"
    }
   ],
   "source": [
    "pd.Series(ages)"
   ]
  },
  {
   "cell_type": "code",
   "execution_count": 21,
   "id": "c78c83c0",
   "metadata": {},
   "outputs": [
    {
     "data": {
      "text/plain": [
       "150"
      ]
     },
     "execution_count": 21,
     "metadata": {},
     "output_type": "execute_result"
    }
   ],
   "source": [
    "# TASK: Use pandas to grab the expenses paid by Bob.\n",
    "import pandas as pd\n",
    "expenses = pd.Series({'Andrew':200,'Bob':150,'Claire':450})\n",
    "bob_expense = expenses['Bob']\n",
    "bob_expense"
   ]
  },
  {
   "cell_type": "code",
   "execution_count": 32,
   "id": "adacfb52",
   "metadata": {},
   "outputs": [],
   "source": [
    "#Dictionary Imaginary Sales Data\n",
    "q1 = {'Japan':304,'Italy':200,'Korea':400,'China':601, }\n",
    "q2 = {'Pakistan':704,'Italy':350,'Thailand':300,'China':104,}"
   ]
  },
  {
   "cell_type": "code",
   "execution_count": 33,
   "id": "a550b06e",
   "metadata": {},
   "outputs": [],
   "source": [
    "sales_q1 = pd.Series(q1)\n",
    "sales_q2 = pd.Series(q2)"
   ]
  },
  {
   "cell_type": "code",
   "execution_count": 34,
   "id": "c51753f1",
   "metadata": {},
   "outputs": [
    {
     "data": {
      "text/plain": [
       "Japan    304\n",
       "Italy    200\n",
       "Korea    400\n",
       "China    601\n",
       "dtype: int64"
      ]
     },
     "execution_count": 34,
     "metadata": {},
     "output_type": "execute_result"
    }
   ],
   "source": [
    "sales_q1"
   ]
  },
  {
   "cell_type": "code",
   "execution_count": 35,
   "id": "0629e3a9",
   "metadata": {},
   "outputs": [
    {
     "data": {
      "text/plain": [
       "Pakistan    704\n",
       "Italy       350\n",
       "Thailand    300\n",
       "China       104\n",
       "dtype: int64"
      ]
     },
     "execution_count": 35,
     "metadata": {},
     "output_type": "execute_result"
    }
   ],
   "source": [
    "sales_q2"
   ]
  },
  {
   "cell_type": "code",
   "execution_count": 36,
   "id": "c4209b59",
   "metadata": {},
   "outputs": [
    {
     "data": {
      "text/plain": [
       "304"
      ]
     },
     "execution_count": 36,
     "metadata": {},
     "output_type": "execute_result"
    }
   ],
   "source": [
    "sales_q1['Japan']"
   ]
  },
  {
   "cell_type": "code",
   "execution_count": 37,
   "id": "4d14b6a2",
   "metadata": {},
   "outputs": [
    {
     "data": {
      "text/plain": [
       "Index(['Japan', 'Italy', 'Korea', 'China'], dtype='object')"
      ]
     },
     "execution_count": 37,
     "metadata": {},
     "output_type": "execute_result"
    }
   ],
   "source": [
    "sales_q1.keys()"
   ]
  },
  {
   "cell_type": "code",
   "execution_count": 38,
   "id": "0d17785f",
   "metadata": {},
   "outputs": [
    {
     "data": {
      "text/plain": [
       "Japan     608\n",
       "Italy     400\n",
       "Korea     800\n",
       "China    1202\n",
       "dtype: int64"
      ]
     },
     "execution_count": 38,
     "metadata": {},
     "output_type": "execute_result"
    }
   ],
   "source": [
    "sales_q1 * 2 "
   ]
  },
  {
   "cell_type": "code",
   "execution_count": 39,
   "id": "7e2ad289",
   "metadata": {},
   "outputs": [
    {
     "data": {
      "text/plain": [
       "China       705.0\n",
       "Italy       550.0\n",
       "Japan         NaN\n",
       "Korea         NaN\n",
       "Pakistan      NaN\n",
       "Thailand      NaN\n",
       "dtype: float64"
      ]
     },
     "execution_count": 39,
     "metadata": {},
     "output_type": "execute_result"
    }
   ],
   "source": [
    "sales_q1 + sales_q2"
   ]
  },
  {
   "cell_type": "code",
   "execution_count": 43,
   "id": "a5d9e03a",
   "metadata": {},
   "outputs": [],
   "source": [
    "first_half = sales_q1.add(sales_q2,fill_value=0)"
   ]
  },
  {
   "cell_type": "code",
   "execution_count": 42,
   "id": "f5dea618",
   "metadata": {},
   "outputs": [
    {
     "data": {
      "text/plain": [
       "dtype('int64')"
      ]
     },
     "execution_count": 42,
     "metadata": {},
     "output_type": "execute_result"
    }
   ],
   "source": [
    "sales_q1.dtype"
   ]
  },
  {
   "cell_type": "code",
   "execution_count": 44,
   "id": "2678022c",
   "metadata": {},
   "outputs": [
    {
     "data": {
      "text/plain": [
       "dtype('float64')"
      ]
     },
     "execution_count": 44,
     "metadata": {},
     "output_type": "execute_result"
    }
   ],
   "source": [
    "first_half.dtype"
   ]
  },
  {
   "cell_type": "code",
   "execution_count": null,
   "id": "260bfc5f",
   "metadata": {},
   "outputs": [],
   "source": []
  }
 ],
 "metadata": {
  "kernelspec": {
   "display_name": "Python 3 (ipykernel)",
   "language": "python",
   "name": "python3"
  },
  "language_info": {
   "codemirror_mode": {
    "name": "ipython",
    "version": 3
   },
   "file_extension": ".py",
   "mimetype": "text/x-python",
   "name": "python",
   "nbconvert_exporter": "python",
   "pygments_lexer": "ipython3",
   "version": "3.11.5"
  }
 },
 "nbformat": 4,
 "nbformat_minor": 5
}
